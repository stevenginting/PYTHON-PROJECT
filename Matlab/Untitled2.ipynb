{
 "cells": [
  {
   "cell_type": "code",
   "execution_count": null,
   "id": "1b565b92-3423-4b16-88ed-d1b985828e41",
   "metadata": {},
   "outputs": [],
   "source": []
  }
 ],
 "metadata": {
  "kernelspec": {
   "display_name": "",
   "name": ""
  },
  "language_info": {
   "name": ""
  }
 },
 "nbformat": 4,
 "nbformat_minor": 5
}
