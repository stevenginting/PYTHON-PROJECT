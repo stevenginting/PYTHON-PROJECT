{
 "cells": [
  {
   "cell_type": "code",
   "execution_count": 11,
   "id": "1a05fab4-29af-41c7-a8f8-43645c5431c4",
   "metadata": {},
   "outputs": [
    {
     "name": "stdout",
     "output_type": "stream",
     "text": [
      "5.0\n",
      "(-7+24j)\n",
      "(25+0j)\n",
      "[9.+5.j 7.-4.j 9.-6.j]\n",
      "[9.+5.j 7.-4.j 9.-6.j]\n",
      "[9.-5.j 7.+4.j 9.+6.j]\n"
     ]
    }
   ],
   "source": [
    "import numpy as np\n",
    "#variable complex number\n",
    "z = np.complex128(3,4)\n",
    "#magnitude\n",
    "print(np.linalg.norm(z))\n",
    "#transpose\n",
    "print(np.transpose(z)*z)\n",
    "#HERMITIAN\n",
    "print(np.transpose(z.conjugate())*z)\n",
    "#complex vector\n",
    "v = np.array([9+5j , 7-4j, np.complex128(9,-6)])\n",
    "print(v.T)\n",
    "print(np.transpose(v))\n",
    "print(np.transpose(v.conjugate()))"
   ]
  },
  {
   "cell_type": "code",
   "execution_count": null,
   "id": "76f33c8a-6548-482a-aeab-32beafa7f546",
   "metadata": {},
   "outputs": [],
   "source": []
  },
  {
   "cell_type": "code",
   "execution_count": null,
   "id": "2db46246-4e81-4a90-bdf2-ea0edbc472b0",
   "metadata": {},
   "outputs": [],
   "source": []
  }
 ],
 "metadata": {
  "kernelspec": {
   "display_name": "Python 3 (ipykernel)",
   "language": "python",
   "name": "python3"
  },
  "language_info": {
   "codemirror_mode": {
    "name": "ipython",
    "version": 3
   },
   "file_extension": ".py",
   "mimetype": "text/x-python",
   "name": "python",
   "nbconvert_exporter": "python",
   "pygments_lexer": "ipython3",
   "version": "3.13.0"
  }
 },
 "nbformat": 4,
 "nbformat_minor": 5
}
