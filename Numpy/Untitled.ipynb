{
 "cells": [
  {
   "cell_type": "code",
   "execution_count": 1,
   "id": "1987509b-3f28-4c3a-afb4-a71b9681b3af",
   "metadata": {},
   "outputs": [
    {
     "name": "stdout",
     "output_type": "stream",
     "text": [
      "33.301651610693426 49.86983055916673 720.0\n",
      "[-0.78074206  0.36034249 -0.24022833 -0.45042811] [-0.38099187  0.78203594 -0.22057424  0.44114848]\n",
      "0.43353965804484196\n"
     ]
    }
   ],
   "source": [
    "import numpy as np\n",
    "n = 4\n",
    "v1 = np.round( 20*np.random.randn(n) )\n",
    "v2 = np.round( 20*np.random.randn(n) )\n",
    "\n",
    "v1m = np.sqrt(np.dot(v1,v1))\n",
    "v2m = np.sqrt(np.dot(v2,v2))\n",
    "dpm = np.abs(np.dot(v1,v2))\n",
    "print(v1m, v2m, dpm)\n",
    "\n",
    "v1u = v1/v1m\n",
    "v2u = v2/v2m\n",
    "print(v1u, v2u)\n",
    "\n",
    "dpm = np.abs(np.dot(v1u,v2u))\n",
    "print(dpm)\n"
   ]
  },
  {
   "cell_type": "code",
   "execution_count": null,
   "id": "55f0bc2a-9f8a-46a6-8b7f-3e9a0cb1fa07",
   "metadata": {},
   "outputs": [],
   "source": []
  }
 ],
 "metadata": {
  "kernelspec": {
   "display_name": "Python 3 (ipykernel)",
   "language": "python",
   "name": "python3"
  },
  "language_info": {
   "codemirror_mode": {
    "name": "ipython",
    "version": 3
   },
   "file_extension": ".py",
   "mimetype": "text/x-python",
   "name": "python",
   "nbconvert_exporter": "python",
   "pygments_lexer": "ipython3",
   "version": "3.13.0"
  }
 },
 "nbformat": 4,
 "nbformat_minor": 5
}
