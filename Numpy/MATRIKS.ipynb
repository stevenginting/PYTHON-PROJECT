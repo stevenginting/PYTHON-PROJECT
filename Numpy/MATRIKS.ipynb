{
 "cells": [
  {
   "cell_type": "code",
   "execution_count": 22,
   "id": "768dd25b-b303-40b2-bea7-68db895215ec",
   "metadata": {},
   "outputs": [
    {
     "name": "stdout",
     "output_type": "stream",
     "text": [
      "[[1. 0. 0.]\n",
      " [0. 1. 0.]\n",
      " [0. 0. 1.]]\n",
      "\n",
      "[[0. 0. 0. 0.]\n",
      " [0. 0. 0. 0.]\n",
      " [0. 0. 0. 0.]\n",
      " [0. 0. 0. 0.]]\n",
      "\n",
      "[[1 0 0 0 0 0]\n",
      " [0 2 0 0 0 0]\n",
      " [0 0 3 0 0 0]\n",
      " [0 0 0 4 0 0]\n",
      " [0 0 0 0 5 0]\n",
      " [0 0 0 0 0 9]]\n",
      "\n",
      "[[ 0.20446977 -0.50247705  1.81491161  0.25545302 -0.39813664]\n",
      " [ 0.         -1.67099085  0.82405458 -1.84833481 -0.0450456 ]\n",
      " [ 0.          0.         -0.61287121 -0.07315597 -1.83549491]\n",
      " [ 0.          0.          0.         -1.73449566  0.38615724]\n",
      " [ 0.          0.          0.          0.          0.67973671]]\n",
      "\n",
      "[[ 0.20446977  0.          0.          0.          0.        ]\n",
      " [ 0.11192609 -1.67099085  0.          0.          0.        ]\n",
      " [ 0.64166226 -0.74825896 -0.61287121  0.          0.        ]\n",
      " [ 0.39302602  1.21933227  0.87938031 -1.73449566  0.        ]\n",
      " [-0.25209336  1.40113437  0.30919906 -1.80767816  0.67973671]]\n"
     ]
    },
    {
     "ename": "TypeError",
     "evalue": "only integer scalar arrays can be converted to a scalar index",
     "output_type": "error",
     "traceback": [
      "\u001b[1;31m---------------------------------------------------------------------------\u001b[0m",
      "\u001b[1;31mTypeError\u001b[0m                                 Traceback (most recent call last)",
      "Cell \u001b[1;32mIn[22], line 33\u001b[0m\n\u001b[0;32m     31\u001b[0m A \u001b[38;5;241m=\u001b[39m np\u001b[38;5;241m.\u001b[39mrandom\u001b[38;5;241m.\u001b[39mrandn(\u001b[38;5;241m3\u001b[39m,\u001b[38;5;241m2\u001b[39m)\n\u001b[0;32m     32\u001b[0m B \u001b[38;5;241m=\u001b[39m np\u001b[38;5;241m.\u001b[39mrandom\u001b[38;5;241m.\u001b[39mrandn(\u001b[38;5;241m4\u001b[39m,\u001b[38;5;241m4\u001b[39m)\n\u001b[1;32m---> 33\u001b[0m C \u001b[38;5;241m=\u001b[39m \u001b[43mnp\u001b[49m\u001b[38;5;241;43m.\u001b[39;49m\u001b[43mconcatenate\u001b[49m\u001b[43m(\u001b[49m\u001b[43mA\u001b[49m\u001b[43m,\u001b[49m\u001b[43mB\u001b[49m\u001b[43m)\u001b[49m\n\u001b[0;32m     34\u001b[0m \u001b[38;5;28mprint\u001b[39m(C)\n",
      "\u001b[1;31mTypeError\u001b[0m: only integer scalar arrays can be converted to a scalar index"
     ]
    }
   ],
   "source": [
    "import numpy as np\n",
    "S = np.random.randn(5,5)\n",
    "R = np.random.randn(5,2)\n",
    "\n",
    "#identity\n",
    "I = np.eye(3)\n",
    "print(I) \n",
    "\n",
    "print('')\n",
    "\n",
    "#Zeros\n",
    "Z = np.zeros((4,4))\n",
    "print(Z)\n",
    "\n",
    "print('')\n",
    "\n",
    "#DIAGONAL\n",
    "D = np.diag([1,2,3,4,5,9])\n",
    "print(D)\n",
    "\n",
    "print('')\n",
    "#Tingular\n",
    "X = np.random.randn(5,5)\n",
    "U = np.triu(X)\n",
    "L = np.tril(X)\n",
    "print(U)\n",
    "print('')\n",
    "print(L)\n",
    "\n",
    "#Concatenate\n",
    "A = np.random.randn(3,2)\n",
    "B = np.random.randn(4,4)\n",
    "C = np.concatenate(A,B)\n",
    "print(C)"
   ]
  },
  {
   "cell_type": "code",
   "execution_count": 6,
   "id": "3ab08d4c-8cea-49d2-9a5b-2e62a2e6d30b",
   "metadata": {},
   "outputs": [
    {
     "name": "stdout",
     "output_type": "stream",
     "text": [
      "[[1. 1. 6. 2.]\n",
      " [2. 1. 6. 4.]\n",
      " [1. 4. 5. 5.]\n",
      " [4. 2. 5. 7.]]\n",
      "\n",
      "[1. 1. 5. 7.]\n",
      "\n",
      "[[1. 0. 0. 0.]\n",
      " [0. 1. 0. 0.]\n",
      " [0. 0. 5. 0.]\n",
      " [0. 0. 0. 7.]]\n",
      "\n",
      "14.0\n",
      "\n",
      "14.0\n"
     ]
    },
    {
     "data": {
      "text/plain": [
       "(None,)"
      ]
     },
     "execution_count": 6,
     "metadata": {},
     "output_type": "execute_result"
    }
   ],
   "source": [
    "import numpy as np\n",
    "M = np.round(8*np.random.rand(4,4))\n",
    "\n",
    "d = np.diag(M)\n",
    "D = np.diag(d)\n",
    "print(M),print('')\n",
    "print(d),print('')\n",
    "print(D),print('')\n",
    "\n",
    "X = np.trace(M)\n",
    "Y = sum(d)\n",
    "print(X ),print('')\n",
    "print(Y), "
   ]
  },
  {
   "cell_type": "code",
   "execution_count": 28,
   "id": "3e7a7728-0161-4e2b-aeac-d59e95b2a4eb",
   "metadata": {},
   "outputs": [
    {
     "name": "stdout",
     "output_type": "stream",
     "text": [
      "[[-1.  1. -1.]\n",
      " [ 1. -0.  5.]\n",
      " [-6.  6.  7.]]\n",
      "\n",
      "[[-3. -2. -1.]\n",
      " [ 4. -6. -3.]\n",
      " [ 7.  6. -5.]]\n",
      "\n",
      "-8.0\n",
      "-8.0 \n",
      "\n",
      "42.0\n",
      "42.0\n"
     ]
    }
   ],
   "source": [
    "import numpy as np\n",
    "\n",
    "#Nomor 1\n",
    "l = 7\n",
    "A = np.round(5*np.random.randn(3,3))\n",
    "B = np.round(5*np.random.randn(3,3))\n",
    "print(A),print('')\n",
    "print(B),print('')\n",
    "#trace\n",
    "Tr1 = np.trace(A)\n",
    "Tr2 = np.trace(B)\n",
    "S1 = Tr1 + Tr2\n",
    "S2 = np.trace(A + B)\n",
    "print(S1,) ,\n",
    "print(S2,\"\\n\")\n",
    "\n",
    "#nomor 2 \n",
    "\n",
    "\n",
    "Sk1 = np.trace(l * A)\n",
    "Sk2 = l*np.trace(A)\n",
    "print(Sk1)\n",
    "print(Sk2)"
   ]
  },
  {
   "cell_type": "code",
   "execution_count": null,
   "id": "faafc52b-94af-4618-837c-3f806ebda4f9",
   "metadata": {},
   "outputs": [],
   "source": []
  }
 ],
 "metadata": {
  "kernelspec": {
   "display_name": "Python 3 (ipykernel)",
   "language": "python",
   "name": "python3"
  },
  "language_info": {
   "codemirror_mode": {
    "name": "ipython",
    "version": 3
   },
   "file_extension": ".py",
   "mimetype": "text/x-python",
   "name": "python",
   "nbconvert_exporter": "python",
   "pygments_lexer": "ipython3",
   "version": "3.13.0"
  }
 },
 "nbformat": 4,
 "nbformat_minor": 5
}
